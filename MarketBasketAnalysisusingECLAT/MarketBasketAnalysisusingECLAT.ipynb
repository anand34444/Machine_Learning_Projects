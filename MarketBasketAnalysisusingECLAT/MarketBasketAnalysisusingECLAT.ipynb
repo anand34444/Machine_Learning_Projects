{
  "cells": [
    {
      "cell_type": "markdown",
      "metadata": {
        "id": "r3cas2_1T98w"
      },
      "source": [
        "#24_MarketBasketAnalysisusingECLAT"
      ]
    },
    {
      "cell_type": "markdown",
      "metadata": {
        "id": "IODliia6U1xO"
      },
      "source": [
        "### Importing the basic libraries"
      ]
    },
    {
      "cell_type": "code",
      "execution_count": null,
      "metadata": {
        "id": "y98nA5UdU6Hf"
      },
      "outputs": [],
      "source": [
        "import numpy as np\n",
        "import pandas as pd\n",
        "import matplotlib.pyplot as plt"
      ]
    },
    {
      "cell_type": "markdown",
      "metadata": {
        "id": "fLBaNX8cVymm"
      },
      "source": [
        "### Importing the dataset"
      ]
    },
    {
      "cell_type": "code",
      "execution_count": null,
      "metadata": {
        "id": "lBgHJ6c7gDn2"
      },
      "outputs": [],
      "source": [
        "dataset = pd.read_csv('dataset1.csv')\n",
        "print(dataset.shape)\n",
        "print(dataset.head(5))"
      ]
    },
    {
      "cell_type": "markdown",
      "metadata": {
        "id": "n90Tb_w9V-vn"
      },
      "source": [
        "### Data Pre-Processing"
      ]
    },
    {
      "cell_type": "code",
      "execution_count": null,
      "metadata": {
        "id": "pm6q3gWXgG_1"
      },
      "outputs": [],
      "source": [
        "transactions = []\n",
        "for i in range(0, 7500):\n",
        "  transactions.append([str(dataset.values[i,j]) for j in range(0, 20)])\n",
        "transactions"
      ]
    },
    {
      "cell_type": "markdown",
      "metadata": {
        "id": "zoIEOorVTzD9"
      },
      "source": [
        "### Training APRIORI"
      ]
    },
    {
      "cell_type": "code",
      "execution_count": null,
      "metadata": {
        "id": "wOuthXLlT0GI"
      },
      "outputs": [],
      "source": [
        "\n",
        "from apyori import apriori\n",
        "rules = apriori(transactions = transactions, min_support = 0.003, min_confidence = 0.2, min_lift = 3, min_length = 2, max_length = 2)"
      ]
    },
    {
      "cell_type": "markdown",
      "metadata": {
        "id": "58ZB1rCZUVfH"
      },
      "source": [
        "### Result"
      ]
    },
    {
      "cell_type": "code",
      "execution_count": null,
      "metadata": {
        "id": "0K7mijvHUW6Z"
      },
      "outputs": [],
      "source": [
        "results = list(rules)\n",
        "results"
      ]
    },
    {
      "cell_type": "markdown",
      "metadata": {
        "id": "rTMd_brsUctX"
      },
      "source": [
        "### Results in Dataframe"
      ]
    },
    {
      "cell_type": "code",
      "execution_count": null,
      "metadata": {
        "id": "PXDHbM4aUdvc"
      },
      "outputs": [],
      "source": [
        "lhs         = [tuple(result[2][0][0])[0] for result in results]\n",
        "rhs         = [tuple(result[2][0][1])[0] for result in results]\n",
        "supports    = [result[1] for result in results]\n",
        "resultsinDataFrame = pd.DataFrame(zip(lhs, rhs, supports), columns = ['Left Hand Side', 'Right Hand Side', 'Support'])\n",
        "resultsinDataFrame"
      ]
    },
    {
      "cell_type": "code",
      "execution_count": null,
      "metadata": {
        "id": "yQfSAap7SwQq"
      },
      "outputs": [],
      "source": [
        "resultsinDataFrame.nlargest(n = 10, columns = 'Support')"
      ]
    }
  ],
  "metadata": {
    "colab": {
      "collapsed_sections": [],
      "name": "24_MarketBasketAnalysisusingECLAT.ipynb",
      "provenance": []
    },
    "kernelspec": {
      "display_name": "Python 3",
      "name": "python3"
    }
  },
  "nbformat": 4,
  "nbformat_minor": 0
}
